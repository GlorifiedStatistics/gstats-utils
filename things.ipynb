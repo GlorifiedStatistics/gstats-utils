{
 "cells": [
  {
   "cell_type": "code",
   "execution_count": 2,
   "metadata": {},
   "outputs": [
    {
     "ename": "EqualityError",
     "evalue": "Object a ('dict') is not equal to object b ('dict')\na: {'a': 1, 'b': ['a', 'c', 'd']}\n b: {'a': 1, 'b': ['a', 2, 'd']}\nMessage: Values at key 'b' differ",
     "output_type": "error",
     "traceback": [
      "\u001b[1;31m---------------------------------------------------------------------------\u001b[0m",
      "\u001b[1;31mEqualityError\u001b[0m                             Traceback (most recent call last)",
      "\u001b[1;32m~\\Desktop\\gstats-utils\\src\\gstats_utils\\pythonutils\\equality.py\u001b[0m in \u001b[0;36mequal\u001b[1;34m(a, b, selector, strict_types, unordered, raise_err)\u001b[0m\n\u001b[0;32m    156\u001b[0m                         \u001b[1;31m# It will have returned an error if raise_err, so just return False\u001b[0m\u001b[1;33m\u001b[0m\u001b[1;33m\u001b[0m\u001b[1;33m\u001b[0m\u001b[0m\n\u001b[1;32m--> 157\u001b[1;33m                         \u001b[1;32mif\u001b[0m \u001b[1;32mnot\u001b[0m \u001b[0mequal\u001b[0m\u001b[1;33m(\u001b[0m\u001b[0m_checking_a\u001b[0m\u001b[1;33m,\u001b[0m \u001b[0m_checking_b\u001b[0m\u001b[1;33m,\u001b[0m \u001b[0mselector\u001b[0m\u001b[1;33m=\u001b[0m\u001b[1;32mNone\u001b[0m\u001b[1;33m,\u001b[0m \u001b[0mstrict_types\u001b[0m\u001b[1;33m=\u001b[0m\u001b[0mstrict_types\u001b[0m\u001b[1;33m,\u001b[0m \u001b[0munordered\u001b[0m\u001b[1;33m=\u001b[0m\u001b[0munordered\u001b[0m\u001b[1;33m,\u001b[0m \u001b[0mraise_err\u001b[0m\u001b[1;33m=\u001b[0m\u001b[0mraise_err\u001b[0m\u001b[1;33m)\u001b[0m\u001b[1;33m:\u001b[0m\u001b[1;33m\u001b[0m\u001b[1;33m\u001b[0m\u001b[0m\n\u001b[0m\u001b[0;32m    158\u001b[0m                             \u001b[1;32mreturn\u001b[0m \u001b[1;32mFalse\u001b[0m\u001b[1;33m\u001b[0m\u001b[1;33m\u001b[0m\u001b[0m\n",
      "\u001b[1;32m~\\Desktop\\gstats-utils\\src\\gstats_utils\\pythonutils\\equality.py\u001b[0m in \u001b[0;36mequal\u001b[1;34m(a, b, selector, strict_types, unordered, raise_err)\u001b[0m\n\u001b[0;32m    123\u001b[0m                 frozenset, DictKeysType)):\n\u001b[1;32m--> 124\u001b[1;33m             \u001b[1;32mreturn\u001b[0m \u001b[0m_eq_check\u001b[0m\u001b[1;33m(\u001b[0m\u001b[0ma\u001b[0m \u001b[1;33m==\u001b[0m \u001b[0mb\u001b[0m\u001b[1;33m,\u001b[0m \u001b[0ma\u001b[0m\u001b[1;33m,\u001b[0m \u001b[0mb\u001b[0m\u001b[1;33m,\u001b[0m \u001b[0mraise_err\u001b[0m\u001b[1;33m,\u001b[0m \u001b[0mmessage\u001b[0m\u001b[1;33m=\u001b[0m\u001b[1;32mNone\u001b[0m\u001b[1;33m)\u001b[0m\u001b[1;33m\u001b[0m\u001b[1;33m\u001b[0m\u001b[0m\n\u001b[0m\u001b[0;32m    125\u001b[0m \u001b[1;33m\u001b[0m\u001b[0m\n",
      "\u001b[1;32m~\\Desktop\\gstats-utils\\src\\gstats_utils\\pythonutils\\equality.py\u001b[0m in \u001b[0;36m_eq_check\u001b[1;34m(checked, a, b, raise_err, message)\u001b[0m\n\u001b[0;32m    297\u001b[0m         \u001b[1;32mif\u001b[0m \u001b[0mraise_err\u001b[0m\u001b[1;33m:\u001b[0m\u001b[1;33m\u001b[0m\u001b[1;33m\u001b[0m\u001b[0m\n\u001b[1;32m--> 298\u001b[1;33m             \u001b[1;32mraise\u001b[0m \u001b[0mEqualityError\u001b[0m\u001b[1;33m(\u001b[0m\u001b[0ma\u001b[0m\u001b[1;33m,\u001b[0m \u001b[0mb\u001b[0m\u001b[1;33m,\u001b[0m \u001b[0mmessage\u001b[0m\u001b[1;33m)\u001b[0m\u001b[1;33m\u001b[0m\u001b[1;33m\u001b[0m\u001b[0m\n\u001b[0m\u001b[0;32m    299\u001b[0m         \u001b[1;32mreturn\u001b[0m \u001b[1;32mFalse\u001b[0m\u001b[1;33m\u001b[0m\u001b[1;33m\u001b[0m\u001b[0m\n",
      "\u001b[1;31mEqualityError\u001b[0m: Object a ('str') is not equal to object b ('int')\na: 'c'\n b: 2\nMessage: Values are not equal",
      "\nDuring handling of the above exception, another exception occurred:\n",
      "\u001b[1;31mEqualityError\u001b[0m                             Traceback (most recent call last)",
      "\u001b[1;32m~\\Desktop\\gstats-utils\\src\\gstats_utils\\pythonutils\\equality.py\u001b[0m in \u001b[0;36mequal\u001b[1;34m(a, b, selector, strict_types, unordered, raise_err)\u001b[0m\n\u001b[0;32m    222\u001b[0m                 \u001b[1;32mtry\u001b[0m\u001b[1;33m:\u001b[0m\u001b[1;33m\u001b[0m\u001b[1;33m\u001b[0m\u001b[0m\n\u001b[1;32m--> 223\u001b[1;33m                     \u001b[1;32mif\u001b[0m \u001b[1;32mnot\u001b[0m \u001b[0mequal\u001b[0m\u001b[1;33m(\u001b[0m\u001b[0ma\u001b[0m\u001b[1;33m[\u001b[0m\u001b[0mk\u001b[0m\u001b[1;33m]\u001b[0m\u001b[1;33m,\u001b[0m \u001b[0mb\u001b[0m\u001b[1;33m[\u001b[0m\u001b[0mk\u001b[0m\u001b[1;33m]\u001b[0m\u001b[1;33m,\u001b[0m \u001b[0mselector\u001b[0m\u001b[1;33m=\u001b[0m\u001b[1;32mNone\u001b[0m\u001b[1;33m,\u001b[0m \u001b[0mstrict_types\u001b[0m\u001b[1;33m=\u001b[0m\u001b[0mstrict_types\u001b[0m\u001b[1;33m,\u001b[0m \u001b[0munordered\u001b[0m\u001b[1;33m=\u001b[0m\u001b[0munordered\u001b[0m\u001b[1;33m,\u001b[0m \u001b[0mraise_err\u001b[0m\u001b[1;33m=\u001b[0m\u001b[0mraise_err\u001b[0m\u001b[1;33m)\u001b[0m\u001b[1;33m:\u001b[0m\u001b[1;33m\u001b[0m\u001b[1;33m\u001b[0m\u001b[0m\n\u001b[0m\u001b[0;32m    224\u001b[0m                         \u001b[1;32mreturn\u001b[0m \u001b[1;32mFalse\u001b[0m\u001b[1;33m\u001b[0m\u001b[1;33m\u001b[0m\u001b[0m\n",
      "\u001b[1;32m~\\Desktop\\gstats-utils\\src\\gstats_utils\\pythonutils\\equality.py\u001b[0m in \u001b[0;36mequal\u001b[1;34m(a, b, selector, strict_types, unordered, raise_err)\u001b[0m\n\u001b[0;32m    159\u001b[0m                     \u001b[1;32mexcept\u001b[0m \u001b[0mEqualityError\u001b[0m\u001b[1;33m:\u001b[0m  \u001b[1;31m# If we get an equality error, then raise_err must be true\u001b[0m\u001b[1;33m\u001b[0m\u001b[1;33m\u001b[0m\u001b[0m\n\u001b[1;32m--> 160\u001b[1;33m                         \u001b[1;32mraise\u001b[0m \u001b[0mEqualityError\u001b[0m\u001b[1;33m(\u001b[0m\u001b[0ma\u001b[0m\u001b[1;33m,\u001b[0m \u001b[0mb\u001b[0m\u001b[1;33m,\u001b[0m \u001b[1;34m\"Values at index %d were not equal\"\u001b[0m \u001b[1;33m%\u001b[0m \u001b[0mi\u001b[0m\u001b[1;33m)\u001b[0m\u001b[1;33m\u001b[0m\u001b[1;33m\u001b[0m\u001b[0m\n\u001b[0m\u001b[0;32m    161\u001b[0m                     \u001b[1;32mexcept\u001b[0m \u001b[0mException\u001b[0m\u001b[1;33m:\u001b[0m\u001b[1;33m\u001b[0m\u001b[1;33m\u001b[0m\u001b[0m\n",
      "\u001b[1;31mEqualityError\u001b[0m: Object a ('list') is not equal to object b ('list')\na: ['a', 'c', 'd']\n b: ['a', 2, 'd']\nMessage: Values at index 1 were not equal",
      "\nDuring handling of the above exception, another exception occurred:\n",
      "\u001b[1;31mEqualityError\u001b[0m                             Traceback (most recent call last)",
      "\u001b[1;32m<ipython-input-2-eeaf2fa40890>\u001b[0m in \u001b[0;36m<module>\u001b[1;34m\u001b[0m\n\u001b[0;32m      1\u001b[0m \u001b[1;32mfrom\u001b[0m \u001b[0mgstats_utils\u001b[0m\u001b[1;33m.\u001b[0m\u001b[0mpythonutils\u001b[0m\u001b[1;33m.\u001b[0m\u001b[0mequality\u001b[0m \u001b[1;32mimport\u001b[0m \u001b[0mequal\u001b[0m\u001b[1;33m\u001b[0m\u001b[1;33m\u001b[0m\u001b[0m\n\u001b[0;32m      2\u001b[0m \u001b[1;33m\u001b[0m\u001b[0m\n\u001b[1;32m----> 3\u001b[1;33m \u001b[0mequal\u001b[0m\u001b[1;33m(\u001b[0m\u001b[1;33m{\u001b[0m\u001b[1;34m'a'\u001b[0m\u001b[1;33m:\u001b[0m \u001b[1;36m1\u001b[0m\u001b[1;33m,\u001b[0m \u001b[1;34m'b'\u001b[0m\u001b[1;33m:\u001b[0m \u001b[1;33m[\u001b[0m\u001b[1;34m'a'\u001b[0m\u001b[1;33m,\u001b[0m \u001b[1;34m'c'\u001b[0m\u001b[1;33m,\u001b[0m \u001b[1;34m'd'\u001b[0m\u001b[1;33m]\u001b[0m\u001b[1;33m}\u001b[0m\u001b[1;33m,\u001b[0m \u001b[1;33m{\u001b[0m\u001b[1;34m'a'\u001b[0m\u001b[1;33m:\u001b[0m \u001b[1;36m1\u001b[0m\u001b[1;33m,\u001b[0m \u001b[1;34m'b'\u001b[0m\u001b[1;33m:\u001b[0m \u001b[1;33m[\u001b[0m\u001b[1;34m'a'\u001b[0m\u001b[1;33m,\u001b[0m \u001b[1;36m2\u001b[0m\u001b[1;33m,\u001b[0m \u001b[1;34m'd'\u001b[0m\u001b[1;33m]\u001b[0m\u001b[1;33m}\u001b[0m\u001b[1;33m,\u001b[0m \u001b[0mselector\u001b[0m\u001b[1;33m=\u001b[0m\u001b[1;32mNone\u001b[0m\u001b[1;33m,\u001b[0m \u001b[0mstrict_types\u001b[0m\u001b[1;33m=\u001b[0m\u001b[1;32mFalse\u001b[0m\u001b[1;33m,\u001b[0m \u001b[0munordered\u001b[0m\u001b[1;33m=\u001b[0m\u001b[1;32mFalse\u001b[0m\u001b[1;33m,\u001b[0m \u001b[0mraise_err\u001b[0m\u001b[1;33m=\u001b[0m\u001b[1;32mTrue\u001b[0m\u001b[1;33m)\u001b[0m\u001b[1;33m\u001b[0m\u001b[1;33m\u001b[0m\u001b[0m\n\u001b[0m",
      "\u001b[1;32m~\\Desktop\\gstats-utils\\src\\gstats_utils\\pythonutils\\equality.py\u001b[0m in \u001b[0;36mequal\u001b[1;34m(a, b, selector, strict_types, unordered, raise_err)\u001b[0m\n\u001b[0;32m    224\u001b[0m                         \u001b[1;32mreturn\u001b[0m \u001b[1;32mFalse\u001b[0m\u001b[1;33m\u001b[0m\u001b[1;33m\u001b[0m\u001b[0m\n\u001b[0;32m    225\u001b[0m                 \u001b[1;32mexcept\u001b[0m \u001b[0mEqualityError\u001b[0m\u001b[1;33m:\u001b[0m  \u001b[1;31m# If we get an equality error, then raise_err must be true\u001b[0m\u001b[1;33m\u001b[0m\u001b[1;33m\u001b[0m\u001b[0m\n\u001b[1;32m--> 226\u001b[1;33m                     \u001b[1;32mraise\u001b[0m \u001b[0mEqualityError\u001b[0m\u001b[1;33m(\u001b[0m\u001b[0ma\u001b[0m\u001b[1;33m,\u001b[0m \u001b[0mb\u001b[0m\u001b[1;33m,\u001b[0m \u001b[0mmessage\u001b[0m\u001b[1;33m=\u001b[0m\u001b[1;34m\"Values at key %s differ\"\u001b[0m \u001b[1;33m%\u001b[0m \u001b[0mrepr\u001b[0m\u001b[1;33m(\u001b[0m\u001b[0mk\u001b[0m\u001b[1;33m)\u001b[0m\u001b[1;33m)\u001b[0m\u001b[1;33m\u001b[0m\u001b[1;33m\u001b[0m\u001b[0m\n\u001b[0m\u001b[0;32m    227\u001b[0m                 \u001b[1;32mexcept\u001b[0m \u001b[0mException\u001b[0m\u001b[1;33m:\u001b[0m\u001b[1;33m\u001b[0m\u001b[1;33m\u001b[0m\u001b[0m\n\u001b[0;32m    228\u001b[0m                     \u001b[1;32mraise\u001b[0m \u001b[0mEqualityCheckingError\u001b[0m\u001b[1;33m(\u001b[0m\u001b[1;34m\"Could not determine equality between dictionary values at key %s\"\u001b[0m \u001b[1;33m%\u001b[0m \u001b[0mrepr\u001b[0m\u001b[1;33m(\u001b[0m\u001b[0mk\u001b[0m\u001b[1;33m)\u001b[0m\u001b[1;33m)\u001b[0m\u001b[1;33m\u001b[0m\u001b[1;33m\u001b[0m\u001b[0m\n",
      "\u001b[1;31mEqualityError\u001b[0m: Object a ('dict') is not equal to object b ('dict')\na: {'a': 1, 'b': ['a', 'c', 'd']}\n b: {'a': 1, 'b': ['a', 2, 'd']}\nMessage: Values at key 'b' differ"
     ]
    }
   ],
   "source": [
    "from gstats_utils.pythonutils.equality import equal\n",
    "\n",
    "equal({'a': 1, 'b': ['a', 'c', 'd']}, {'a': 1, 'b': ['a', 2, 'd']}, selector=None, strict_types=False, unordered=False, raise_err=True)"
   ]
  },
  {
   "cell_type": "code",
   "execution_count": 3,
   "metadata": {},
   "outputs": [
    {
     "data": {
      "text/plain": [
       "dict_values"
      ]
     },
     "execution_count": 3,
     "metadata": {},
     "output_type": "execute_result"
    }
   ],
   "source": [
    "type({'a': 1}.values())"
   ]
  },
  {
   "cell_type": "code",
   "execution_count": 4,
   "metadata": {},
   "outputs": [
    {
     "data": {
      "text/plain": [
       "1"
      ]
     },
     "execution_count": 4,
     "metadata": {},
     "output_type": "execute_result"
    }
   ],
   "source": [
    "{'a': 1}.values().__len__()"
   ]
  },
  {
   "cell_type": "code",
   "execution_count": 9,
   "metadata": {},
   "outputs": [
    {
     "data": {
      "text/plain": [
       "True"
      ]
     },
     "execution_count": 9,
     "metadata": {},
     "output_type": "execute_result"
    }
   ],
   "source": [
    "import enum\n",
    "\n",
    "class A(enum.Enum):\n",
    "    A = 10\n",
    "    B = 12\n",
    "\n",
    "isinstance(A.A, enum.Enum)"
   ]
  },
  {
   "cell_type": "code",
   "execution_count": null,
   "metadata": {},
   "outputs": [],
   "source": []
  }
 ],
 "metadata": {
  "kernelspec": {
   "display_name": "Python 3.9.5 64-bit",
   "language": "python",
   "name": "python3"
  },
  "language_info": {
   "codemirror_mode": {
    "name": "ipython",
    "version": 3
   },
   "file_extension": ".py",
   "mimetype": "text/x-python",
   "name": "python",
   "nbconvert_exporter": "python",
   "pygments_lexer": "ipython3",
   "version": "3.9.5"
  },
  "orig_nbformat": 4,
  "vscode": {
   "interpreter": {
    "hash": "10ef209861248c5fa5eabeb4ee8e041ec740a299442792b22515d41553604d85"
   }
  }
 },
 "nbformat": 4,
 "nbformat_minor": 2
}
